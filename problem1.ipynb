{
 "cells": [
  {
   "cell_type": "code",
   "execution_count": 1,
   "metadata": {},
   "outputs": [],
   "source": [
    "import pyomo.environ as pyo\n",
    "from pyomo.opt import SolverFactory"
   ]
  },
  {
   "cell_type": "code",
   "execution_count": 2,
   "metadata": {},
   "outputs": [
    {
     "name": "stdout",
     "output_type": "stream",
     "text": [
      "\n",
      "Problem: \n",
      "- Name: unknown\n",
      "  Lower bound: 140.0\n",
      "  Upper bound: 140.0\n",
      "  Number of objectives: 1\n",
      "  Number of constraints: 2\n",
      "  Number of variables: 2\n",
      "  Number of nonzeros: 4\n",
      "  Sense: maximize\n",
      "Solver: \n",
      "- Status: ok\n",
      "  Termination condition: optimal\n",
      "  Statistics: \n",
      "    Branch and bound: \n",
      "      Number of bounded subproblems: 0\n",
      "      Number of created subproblems: 0\n",
      "  Error rc: 0\n",
      "  Time: 0.033811330795288086\n",
      "Solution: \n",
      "- number of solutions: 0\n",
      "  number of solutions displayed: 0\n",
      "\n",
      "objective function=  140.0\n",
      "x1 = 20.0\n",
      "x2 = 20.0\n"
     ]
    }
   ],
   "source": [
    "# defining the model\n",
    "\n",
    "model = pyo.ConcreteModel()\n",
    "\n",
    "# decision variables\n",
    "model.x1 = pyo.Var(within = pyo.NonNegativeReals)\n",
    "model.x2 = pyo.Var(within = pyo.NonNegativeReals)\n",
    "\n",
    "x1 = model.x1\n",
    "x2 = model.x2\n",
    "\n",
    "# objective function\n",
    "model.obj = pyo.Objective(expr = 4*x1 + 3*x2, sense = pyo.maximize)\n",
    "\n",
    "#constraints\n",
    "model.const1 = pyo.Constraint(expr = x1 + x2 <= 40)\n",
    "model.const2 = pyo.Constraint(expr = 2*x1 + x2 <= 60)\n",
    "\n",
    "optm = SolverFactory('glpk')\n",
    "results = optm.solve(model)\n",
    "print(results)\n",
    "print('objective function= ', model.obj())\n",
    "print('x1 =', model.x1())\n",
    "print('x2 =', model.x2())\n"
   ]
  },
  {
   "cell_type": "code",
   "execution_count": null,
   "metadata": {},
   "outputs": [],
   "source": []
  }
 ],
 "metadata": {
  "kernelspec": {
   "display_name": "Python 3",
   "language": "python",
   "name": "python3"
  },
  "language_info": {
   "codemirror_mode": {
    "name": "ipython",
    "version": 3
   },
   "file_extension": ".py",
   "mimetype": "text/x-python",
   "name": "python",
   "nbconvert_exporter": "python",
   "pygments_lexer": "ipython3",
   "version": "3.11.4"
  }
 },
 "nbformat": 4,
 "nbformat_minor": 2
}
