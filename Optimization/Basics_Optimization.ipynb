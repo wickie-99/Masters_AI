{
 "cells": [
  {
   "cell_type": "code",
   "execution_count": 1,
   "metadata": {},
   "outputs": [],
   "source": [
    "import pyomo.environ as pyo\n",
    "from pyomo.opt import SolverFactory"
   ]
  },
  {
   "cell_type": "code",
   "execution_count": null,
   "metadata": {},
   "outputs": [],
   "source": [
    "# defining the model\n",
    "\n",
    "model = pyo.ConcreteModel()\n",
    "\n",
    "# decision variables\n",
    "model.x1 = pyo.Var(within = pyo.NonNegativeReals)\n",
    "model.x2 = pyo.Var(within = pyo.NonNegativeReals)\n",
    "\n",
    "x1 = model.x1\n",
    "x2 = model.x2\n",
    "\n",
    "# objective function\n",
    "model.obj = pyo.Objective(expr = 4*x1 + 3*x2, sense = pyo.maximize)\n",
    "\n",
    "#constraints\n",
    "model.const1 = pyo.Constraint(expr = x1 + x2 <= 40)\n",
    "model.const2 = pyo.Constraint(expr = 2*x1 + x2 <= 60)\n",
    "\n",
    "optm = SolverFactory('glpk')\n",
    "results = optm.solve(model)\n",
    "print(results)\n",
    "print('objective function= ', model.obj())\n",
    "print('x1 =', model.x1())\n",
    "print('x2 =', model.x2())\n"
   ]
  },
  {
   "cell_type": "code",
   "execution_count": null,
   "metadata": {},
   "outputs": [],
   "source": [
    "model = pyo.ConcreteModel()\n",
    "\n",
    "# Sets \n",
    "model.i = pyo.Set(initialize = ['Desk', 'Table', 'Chair'])\n",
    "\n",
    "#parameters\n",
    "model.L = "
   ]
  }
 ],
 "metadata": {
  "kernelspec": {
   "display_name": "Python 3",
   "language": "python",
   "name": "python3"
  },
  "language_info": {
   "codemirror_mode": {
    "name": "ipython",
    "version": 3
   },
   "file_extension": ".py",
   "mimetype": "text/x-python",
   "name": "python",
   "nbconvert_exporter": "python",
   "pygments_lexer": "ipython3",
   "version": "3.11.4"
  }
 },
 "nbformat": 4,
 "nbformat_minor": 2
}
