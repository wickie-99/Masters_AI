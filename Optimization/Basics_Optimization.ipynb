{
 "cells": [
  {
   "cell_type": "code",
   "execution_count": 105,
   "metadata": {},
   "outputs": [],
   "source": [
    "import pyomo.environ as pyo\n",
    "from pyomo.opt import SolverFactory"
   ]
  },
  {
   "cell_type": "code",
   "execution_count": 106,
   "metadata": {},
   "outputs": [
    {
     "name": "stdout",
     "output_type": "stream",
     "text": [
      "\n",
      "Problem: \n",
      "- Name: unknown\n",
      "  Lower bound: 140.0\n",
      "  Upper bound: 140.0\n",
      "  Number of objectives: 1\n",
      "  Number of constraints: 2\n",
      "  Number of variables: 2\n",
      "  Number of nonzeros: 4\n",
      "  Sense: maximize\n",
      "Solver: \n",
      "- Status: ok\n",
      "  Termination condition: optimal\n",
      "  Statistics: \n",
      "    Branch and bound: \n",
      "      Number of bounded subproblems: 0\n",
      "      Number of created subproblems: 0\n",
      "  Error rc: 0\n",
      "  Time: 0.05196094512939453\n",
      "Solution: \n",
      "- number of solutions: 0\n",
      "  number of solutions displayed: 0\n",
      "\n",
      "objective function=  140.0\n",
      "x1 = 20.0\n",
      "x2 = 20.0\n"
     ]
    }
   ],
   "source": [
    "# defining the model\n",
    "\n",
    "model = pyo.ConcreteModel()\n",
    "\n",
    "# decision variables\n",
    "model.x1 = pyo.Var(within = pyo.NonNegativeReals)\n",
    "model.x2 = pyo.Var(within = pyo.NonNegativeReals)\n",
    "\n",
    "x1 = model.x1\n",
    "x2 = model.x2\n",
    "\n",
    "# objective function\n",
    "model.obj = pyo.Objective(expr = 4*x1 + 3*x2, sense = pyo.maximize)\n",
    "\n",
    "#constraints\n",
    "model.const1 = pyo.Constraint(expr = x1 + x2 <= 40)\n",
    "model.const2 = pyo.Constraint(expr = 2*x1 + x2 <= 60)\n",
    "\n",
    "optm = SolverFactory('glpk')\n",
    "results = optm.solve(model)\n",
    "print(results)\n",
    "print('objective function= ', model.obj())\n",
    "print('x1 =', model.x1())\n",
    "print('x2 =', model.x2())\n"
   ]
  },
  {
   "cell_type": "code",
   "execution_count": 107,
   "metadata": {},
   "outputs": [],
   "source": [
    "model = pyo.ConcreteModel()\n",
    "\n",
    "# Sets \n",
    "model.i = pyo.Set(initialize = ['Desk', 'Table', 'Chair'])\n",
    "\n",
    "#parameters\n",
    "model.L = pyo.Param(model.i, initialize = {'Desk': 8, 'Table': 6, 'Chair':1})\n",
    "L = model.L\n",
    "\n",
    "model.F = pyo.Param(model.i, initialize = {'Desk': 4, 'Table': 2, 'Chair':1.5})\n",
    "F = model.F\n",
    "\n",
    "model.C = pyo.Param(model.i, initialize = {'Desk': 2, 'Table': 1.5, 'Chair':0.5})\n",
    "C = model.C\n",
    "\n",
    "model.P = pyo.Param(model.i, initialize = {'Desk': 60, 'Table': 30, 'Chair':20})\n",
    "P = model.P\n"
   ]
  },
  {
   "cell_type": "code",
   "execution_count": 108,
   "metadata": {},
   "outputs": [],
   "source": [
    "#Decision variables\n",
    "model.x = pyo.Var(model.i, within = pyo.NonNegativeReals)\n",
    "x = model.x"
   ]
  },
  {
   "cell_type": "code",
   "execution_count": 109,
   "metadata": {},
   "outputs": [],
   "source": [
    "#Objective function\n",
    "def Objective_rule(model):\n",
    "    return  sum(P[i]*x[i] for i in model.i)"
   ]
  },
  {
   "cell_type": "code",
   "execution_count": 110,
   "metadata": {},
   "outputs": [],
   "source": [
    "model.Obj = pyo.Objective(rule = Objective_rule, sense = pyo.maximize)"
   ]
  },
  {
   "cell_type": "code",
   "execution_count": 111,
   "metadata": {},
   "outputs": [],
   "source": [
    "#Constraints\n",
    "def Constraint1 (model, i):\n",
    "    return sum(L[i] * x[i] for i in model.i) <= 48\n",
    "\n",
    "def Constraint2 (model, i):\n",
    "    return sum(F[i] * x[i] for i in model.i) <= 20\n",
    "\n",
    "def Constraint3 (model, i):\n",
    "    return sum(C[i] * x[i] for i in model.i) <= 8\n",
    "\n",
    "def Constraint4 (model, i):\n",
    "    return x['Table'] <= 5"
   ]
  },
  {
   "cell_type": "code",
   "execution_count": 112,
   "metadata": {},
   "outputs": [],
   "source": [
    "model.Const1 = pyo.Constraint(model.i, rule = Constraint1)\n",
    "model.Const2 = pyo.Constraint(model.i, rule = Constraint2)\n",
    "model.Const3 = pyo.Constraint(model.i, rule = Constraint3)\n",
    "model.Const4 = pyo.Constraint(model.i, rule = Constraint4)"
   ]
  },
  {
   "cell_type": "code",
   "execution_count": 113,
   "metadata": {},
   "outputs": [
    {
     "name": "stdout",
     "output_type": "stream",
     "text": [
      "\n",
      "Problem: \n",
      "- Name: unknown\n",
      "  Lower bound: 280.0\n",
      "  Upper bound: 280.0\n",
      "  Number of objectives: 1\n",
      "  Number of constraints: 12\n",
      "  Number of variables: 3\n",
      "  Number of nonzeros: 30\n",
      "  Sense: maximize\n",
      "Solver: \n",
      "- Status: ok\n",
      "  Termination condition: optimal\n",
      "  Statistics: \n",
      "    Branch and bound: \n",
      "      Number of bounded subproblems: 0\n",
      "      Number of created subproblems: 0\n",
      "  Error rc: 0\n",
      "  Time: 0.08508849143981934\n",
      "Solution: \n",
      "- number of solutions: 0\n",
      "  number of solutions displayed: 0\n",
      "\n",
      "Objective Function =  280.0\n",
      "Number of  Desk produced =  2.0\n",
      "Number of  Table produced =  0.0\n",
      "Number of  Chair produced =  8.0\n"
     ]
    }
   ],
   "source": [
    "#Solve\n",
    "Solver = SolverFactory('glpk')\n",
    "results = Solver.solve(model)\n",
    "\n",
    "print(results)\n",
    "print('Objective Function = ', model.Obj())\n",
    "\n",
    "for i in model.i:\n",
    "    print('Number of ', i, 'produced = ', x[i]())"
   ]
  },
  {
   "cell_type": "code",
   "execution_count": 114,
   "metadata": {},
   "outputs": [],
   "source": [
    "model = pyo.ConcreteModel()"
   ]
  },
  {
   "cell_type": "code",
   "execution_count": 115,
   "metadata": {},
   "outputs": [],
   "source": [
    "#Sets\n",
    "\n",
    "model.i = pyo.RangeSet(1,3)\n",
    "model.j = pyo.RangeSet(1,4)\n",
    "\n",
    "# model.i = pyo.Set('plant1','plant2','plant3')\n",
    "# model.j = pyo.Set('city1','city2','city3','city4')\n"
   ]
  },
  {
   "cell_type": "code",
   "execution_count": 116,
   "metadata": {},
   "outputs": [],
   "source": [
    "# Parameters\n",
    "model.S = pyo.Param(model.i, initialize = {1:35, 2:50, 3:40})\n",
    "S = model.S\n",
    "\n",
    "model.D = pyo.Param(model.j, initialize = {1:45, 2:20, 3:30, 4:30})\n",
    "D = model.D\n",
    "\n",
    "model.P = pyo.Param(model.i, model.j, initialize = {(1,1):8, (1,2):6, (1,3):10, (1,4):9, (2,1):9, (2,2):12,(2,3):13,(2,4):7,(3,1):14,(3,2):9,(3,3):16, (3,4):5})\n",
    "P = model.P"
   ]
  },
  {
   "cell_type": "code",
   "execution_count": 117,
   "metadata": {},
   "outputs": [],
   "source": [
    "#Variables\n",
    "model.x = pyo.Var(model.i, model.j, within = pyo.NonNegativeReals)\n",
    "x = model.x"
   ]
  },
  {
   "cell_type": "code",
   "execution_count": 118,
   "metadata": {},
   "outputs": [],
   "source": [
    "#Objective Function\n",
    "def Objective_rule(model):\n",
    "    return sum(sum(P[i,j]*x[i,j] for i in model.i) for j in model.j)\n",
    "\n",
    "model.Objf = pyo.Objective(rule = Objective_rule, sense = pyo.minimize)"
   ]
  },
  {
   "cell_type": "code",
   "execution_count": 119,
   "metadata": {},
   "outputs": [],
   "source": [
    "#Constraints\n",
    "def Constraint1(model,i):\n",
    "    return sum(x[1,j] for j in model.j) <= S[1]\n",
    "\n",
    "def Constraint2(model,i):\n",
    "    return sum(x[2,j] for j in model.j) <= S[1]\n",
    "\n",
    "def Constraint3(model,i):\n",
    "    return sum(x[3,j] for j in model.j) <= S[1]\n",
    "\n",
    "def Constraint4(model,j):\n",
    "    return sum(x[i,1] for i in model.i) >= D[1]\n",
    "\n",
    "def Constraint5(model,j):\n",
    "    return sum(x[i,2] for i in model.i) >= D[2]\n",
    "\n",
    "def Constraint6(model,j):\n",
    "    return sum(x[i,3] for i in model.i) >= D[3]\n",
    "\n",
    "def Constraint7(model,j):\n",
    "    return sum(x[i,4] for i in model.i) >= D[4]"
   ]
  },
  {
   "cell_type": "code",
   "execution_count": 120,
   "metadata": {},
   "outputs": [],
   "source": [
    "model.Const1 = pyo.Constraint(model.j, rule = Constraint1)\n",
    "model.Const2 = pyo.Constraint(model.j, rule = Constraint2)\n",
    "model.Const3 = pyo.Constraint(model.j, rule = Constraint3)\n",
    "model.Const4 = pyo.Constraint(model.i, rule = Constraint4)\n",
    "model.Const5 = pyo.Constraint(model.i, rule = Constraint5)\n",
    "model.Const6 = pyo.Constraint(model.i, rule = Constraint6)\n",
    "model.Const7 = pyo.Constraint(model.i, rule = Constraint7)"
   ]
  },
  {
   "cell_type": "code",
   "execution_count": 124,
   "metadata": {},
   "outputs": [
    {
     "name": "stdout",
     "output_type": "stream",
     "text": [
      "\n",
      "Problem: \n",
      "- Name: unknown\n",
      "  Lower bound: -inf\n",
      "  Upper bound: inf\n",
      "  Number of objectives: 1\n",
      "  Number of constraints: 24\n",
      "  Number of variables: 12\n",
      "  Number of nonzeros: 84\n",
      "  Sense: minimize\n",
      "Solver: \n",
      "- Status: ok\n",
      "  Termination condition: other\n",
      "  Statistics: \n",
      "    Branch and bound: \n",
      "      Number of bounded subproblems: 0\n",
      "      Number of created subproblems: 0\n",
      "  Error rc: 0\n",
      "  Time: 0.08617234230041504\n",
      "\n"
     ]
    }
   ],
   "source": [
    "Solver = SolverFactory('glpk')\n",
    "results = Solver.solve(model)\n",
    "\n",
    "print(results)\n",
    "#print('Objective function = ', model.Objf())\n",
    "\n",
    "#for i in model.i:\n",
    "   # for j in model.j:\n",
    "        #print(\"Electricity send from plant \", i, 'to city ', j, '= ', x[i][j]())"
   ]
  },
  {
   "cell_type": "code",
   "execution_count": null,
   "metadata": {},
   "outputs": [],
   "source": []
  }
 ],
 "metadata": {
  "kernelspec": {
   "display_name": "Python 3",
   "language": "python",
   "name": "python3"
  },
  "language_info": {
   "codemirror_mode": {
    "name": "ipython",
    "version": 3
   },
   "file_extension": ".py",
   "mimetype": "text/x-python",
   "name": "python",
   "nbconvert_exporter": "python",
   "pygments_lexer": "ipython3",
   "version": "3.11.4"
  }
 },
 "nbformat": 4,
 "nbformat_minor": 2
}
